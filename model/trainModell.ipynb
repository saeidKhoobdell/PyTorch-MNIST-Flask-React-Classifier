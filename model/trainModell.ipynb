{
 "cells": [
  {
   "cell_type": "code",
   "execution_count": 1,
   "metadata": {},
   "outputs": [
    {
     "name": "stdout",
     "output_type": "stream",
     "text": [
      "GPU available :True\n"
     ]
    }
   ],
   "source": [
    "import torch\n",
    "import torchvision\n",
    "import torchvision.transforms as transforms\n",
    "import torch.optim as optim\n",
    "import torch.nn as nn\n",
    "import torch.nn.functional as F\n",
    "from torch.utils.data import  DataLoader\n",
    "\n",
    "print(\"GPU available :{}\".format(torch.cuda.is_available()))"
   ]
  },
  {
   "cell_type": "code",
   "execution_count": 2,
   "metadata": {},
   "outputs": [],
   "source": [
    "if torch.cuda.is_available():\n",
    "    device = 'cuda'\n",
    "else :\n",
    "    device = 'cpu'    "
   ]
  },
  {
   "cell_type": "code",
   "execution_count": 3,
   "metadata": {},
   "outputs": [],
   "source": [
    "transfomer = transforms.Compose([transforms.ToTensor(),\n",
    "                                 transforms.Normalize((0.5,), (0.5,))])"
   ]
  },
  {
   "cell_type": "code",
   "execution_count": 4,
   "metadata": {},
   "outputs": [
    {
     "name": "stdout",
     "output_type": "stream",
     "text": [
      "Downloading http://yann.lecun.com/exdb/mnist/train-images-idx3-ubyte.gz\n",
      "Failed to download (trying next):\n",
      "HTTP Error 403: Forbidden\n",
      "\n",
      "Downloading https://ossci-datasets.s3.amazonaws.com/mnist/train-images-idx3-ubyte.gz\n",
      "Downloading https://ossci-datasets.s3.amazonaws.com/mnist/train-images-idx3-ubyte.gz to mnist\\MNIST\\raw\\train-images-idx3-ubyte.gz\n"
     ]
    },
    {
     "data": {
      "application/json": {
       "ascii": false,
       "bar_format": null,
       "colour": null,
       "elapsed": 0.00899815559387207,
       "initial": 0,
       "n": 0,
       "ncols": null,
       "nrows": null,
       "postfix": null,
       "prefix": "",
       "rate": null,
       "total": 9912422,
       "unit": "it",
       "unit_divisor": 1000,
       "unit_scale": false
      },
      "application/vnd.jupyter.widget-view+json": {
       "model_id": "2cdc8452bad14d559f47f6866b4dceb6",
       "version_major": 2,
       "version_minor": 0
      },
      "text/plain": [
       "  0%|          | 0/9912422 [00:00<?, ?it/s]"
      ]
     },
     "metadata": {},
     "output_type": "display_data"
    },
    {
     "name": "stdout",
     "output_type": "stream",
     "text": [
      "Extracting mnist\\MNIST\\raw\\train-images-idx3-ubyte.gz to mnist\\MNIST\\raw\n",
      "\n",
      "Downloading http://yann.lecun.com/exdb/mnist/train-labels-idx1-ubyte.gz\n",
      "Failed to download (trying next):\n",
      "HTTP Error 403: Forbidden\n",
      "\n",
      "Downloading https://ossci-datasets.s3.amazonaws.com/mnist/train-labels-idx1-ubyte.gz\n",
      "Downloading https://ossci-datasets.s3.amazonaws.com/mnist/train-labels-idx1-ubyte.gz to mnist\\MNIST\\raw\\train-labels-idx1-ubyte.gz\n"
     ]
    },
    {
     "data": {
      "application/json": {
       "ascii": false,
       "bar_format": null,
       "colour": null,
       "elapsed": 0.008240461349487305,
       "initial": 0,
       "n": 0,
       "ncols": null,
       "nrows": null,
       "postfix": null,
       "prefix": "",
       "rate": null,
       "total": 28881,
       "unit": "it",
       "unit_divisor": 1000,
       "unit_scale": false
      },
      "application/vnd.jupyter.widget-view+json": {
       "model_id": "25245f1ed842429abd8369330c23ba73",
       "version_major": 2,
       "version_minor": 0
      },
      "text/plain": [
       "  0%|          | 0/28881 [00:00<?, ?it/s]"
      ]
     },
     "metadata": {},
     "output_type": "display_data"
    },
    {
     "name": "stdout",
     "output_type": "stream",
     "text": [
      "Extracting mnist\\MNIST\\raw\\train-labels-idx1-ubyte.gz to mnist\\MNIST\\raw\n",
      "\n",
      "Downloading http://yann.lecun.com/exdb/mnist/t10k-images-idx3-ubyte.gz\n",
      "Failed to download (trying next):\n",
      "HTTP Error 403: Forbidden\n",
      "\n",
      "Downloading https://ossci-datasets.s3.amazonaws.com/mnist/t10k-images-idx3-ubyte.gz\n",
      "Downloading https://ossci-datasets.s3.amazonaws.com/mnist/t10k-images-idx3-ubyte.gz to mnist\\MNIST\\raw\\t10k-images-idx3-ubyte.gz\n"
     ]
    },
    {
     "data": {
      "application/json": {
       "ascii": false,
       "bar_format": null,
       "colour": null,
       "elapsed": 0.01128530502319336,
       "initial": 0,
       "n": 0,
       "ncols": null,
       "nrows": null,
       "postfix": null,
       "prefix": "",
       "rate": null,
       "total": 1648877,
       "unit": "it",
       "unit_divisor": 1000,
       "unit_scale": false
      },
      "application/vnd.jupyter.widget-view+json": {
       "model_id": "7a4697d9bc1b4926a36014151ab939ce",
       "version_major": 2,
       "version_minor": 0
      },
      "text/plain": [
       "  0%|          | 0/1648877 [00:00<?, ?it/s]"
      ]
     },
     "metadata": {},
     "output_type": "display_data"
    },
    {
     "name": "stdout",
     "output_type": "stream",
     "text": [
      "Extracting mnist\\MNIST\\raw\\t10k-images-idx3-ubyte.gz to mnist\\MNIST\\raw\n",
      "\n",
      "Downloading http://yann.lecun.com/exdb/mnist/t10k-labels-idx1-ubyte.gz\n",
      "Failed to download (trying next):\n",
      "HTTP Error 403: Forbidden\n",
      "\n",
      "Downloading https://ossci-datasets.s3.amazonaws.com/mnist/t10k-labels-idx1-ubyte.gz\n",
      "Downloading https://ossci-datasets.s3.amazonaws.com/mnist/t10k-labels-idx1-ubyte.gz to mnist\\MNIST\\raw\\t10k-labels-idx1-ubyte.gz\n"
     ]
    },
    {
     "data": {
      "application/json": {
       "ascii": false,
       "bar_format": null,
       "colour": null,
       "elapsed": 0.009677886962890625,
       "initial": 0,
       "n": 0,
       "ncols": null,
       "nrows": null,
       "postfix": null,
       "prefix": "",
       "rate": null,
       "total": 4542,
       "unit": "it",
       "unit_divisor": 1000,
       "unit_scale": false
      },
      "application/vnd.jupyter.widget-view+json": {
       "model_id": "e310cfbba86f4bff86e8c2b229b4904d",
       "version_major": 2,
       "version_minor": 0
      },
      "text/plain": [
       "  0%|          | 0/4542 [00:00<?, ?it/s]"
      ]
     },
     "metadata": {},
     "output_type": "display_data"
    },
    {
     "name": "stdout",
     "output_type": "stream",
     "text": [
      "Extracting mnist\\MNIST\\raw\\t10k-labels-idx1-ubyte.gz to mnist\\MNIST\\raw\n",
      "\n"
     ]
    }
   ],
   "source": [
    "train_dataset = torchvision.datasets.MNIST('mnist',\n",
    "                                          train = True,\n",
    "                                          download = True,\n",
    "                                          transform = transfomer)\n",
    "test_dataset = torchvision.datasets.MNIST('mnist',\n",
    "                                          train = False,\n",
    "                                          download = True,\n",
    "                                          transform = transfomer)"
   ]
  },
  {
   "cell_type": "code",
   "execution_count": 5,
   "metadata": {},
   "outputs": [
    {
     "name": "stdout",
     "output_type": "stream",
     "text": [
      "torch.Size([60000, 28, 28])\n",
      "torch.Size([10000, 28, 28])\n"
     ]
    }
   ],
   "source": [
    "print(train_dataset.data.shape)\n",
    "print(test_dataset.data.shape)"
   ]
  },
  {
   "cell_type": "markdown",
   "metadata": {},
   "source": [
    "### **we can plot this in OpenCV**\n"
   ]
  },
  {
   "cell_type": "code",
   "execution_count": 7,
   "metadata": {},
   "outputs": [
    {
     "data": {
      "image/png": "[encoded data removed]",
      "text/plain": [
       "<Figure size 432x432 with 1 Axes>"
      ]
     },
     "metadata": {
      "needs_background": "light"
     },
     "output_type": "display_data"
    }
   ],
   "source": [
    "import cv2\n",
    "import numpy as np\n",
    "from matplotlib import pyplot as plt\n",
    "\n",
    "# Define our imshow function \n",
    "def imgshow(title=\"\", image = None, size = 6):\n",
    "    w, h = image.shape[0], image.shape[1]\n",
    "    aspect_ratio = w/h\n",
    "    plt.figure(figsize=(size * aspect_ratio,size))\n",
    "    plt.imshow(cv2.cvtColor(image, cv2.COLOR_BGR2RGB))\n",
    "    plt.title(title)\n",
    "    plt.show()\n",
    "\n",
    "# Convert image to a numpy array\n",
    "image = train_dataset.data[0].numpy()\n",
    "imgshow(\"MNIST Sample\", image)"
   ]
  },
  {
   "cell_type": "markdown",
   "metadata": {},
   "source": [
    "### **Alternatively we can use matplotlib to show many examples from our dataset**"
   ]
  },
  {
   "cell_type": "code",
   "execution_count": 8,
   "metadata": {},
   "outputs": [
    {
     "data": {
      "image/png": "[encoded data removed]",
      "text/plain": [
       "<Figure size 432x288 with 50 Axes>"
      ]
     },
     "metadata": {
      "needs_background": "light"
     },
     "output_type": "display_data"
    }
   ],
   "source": [
    "# Let's view the 50 first images of the MNIST training dataset\n",
    "import matplotlib.pyplot as plt\n",
    "\n",
    "figure = plt.figure()\n",
    "num_of_images = 50 \n",
    "\n",
    "for index in range(1, num_of_images + 1):\n",
    "    plt.subplot(5, 10, index)\n",
    "    plt.axis('off')\n",
    "    plt.imshow(train_dataset.data[index], cmap='gray_r')"
   ]
  },
  {
   "cell_type": "code",
   "execution_count": 10,
   "metadata": {},
   "outputs": [],
   "source": [
    "trainloader = DataLoader(train_dataset, batch_size = 128, shuffle=True, num_workers=0)\n",
    "testloader = DataLoader(test_dataset, batch_size = 128, shuffle=True, num_workers=0)"
   ]
  },
  {
   "cell_type": "code",
   "execution_count": 11,
   "metadata": {},
   "outputs": [],
   "source": [
    "class MNISTClissifier(nn.Module):\n",
    "    def __init__(self):\n",
    "        super(MNISTClissifier, self).__init__()\n",
    "        self.conv1 = nn.Conv2d(1, 32, 3)\n",
    "        self.conv2 = nn.Conv2d(32, 64, 3)\n",
    "        self.maxPool = nn.MaxPool2d(2,2)\n",
    "        self.fc1 = nn.Linear(64* 12*12, 128)\n",
    "        self.fc2 = nn.Linear(128, 10)\n",
    "\n",
    "    def forward(self, x):\n",
    "        x = F.relu(self.conv1(x))\n",
    "        x = F.relu(self.conv2(x))\n",
    "        x = self.maxPool(x)\n",
    "        x = x.view(-1, 64 * 12 * 12)\n",
    "        x = F.relu(self.fc1(x))\n",
    "        x = self.fc2(x)\n",
    "        return x\n"
   ]
  },
  {
   "cell_type": "code",
   "execution_count": 12,
   "metadata": {},
   "outputs": [
    {
     "data": {
      "text/plain": [
       "MNISTClissifier(\n",
       "  (conv1): Conv2d(1, 32, kernel_size=(3, 3), stride=(1, 1))\n",
       "  (conv2): Conv2d(32, 64, kernel_size=(3, 3), stride=(1, 1))\n",
       "  (maxPool): MaxPool2d(kernel_size=2, stride=2, padding=0, dilation=1, ceil_mode=False)\n",
       "  (fc1): Linear(in_features=9216, out_features=128, bias=True)\n",
       "  (fc2): Linear(in_features=128, out_features=10, bias=True)\n",
       ")"
      ]
     },
     "execution_count": 12,
     "metadata": {},
     "output_type": "execute_result"
    }
   ],
   "source": [
    "net = MNISTClissifier()\n",
    "net.to(device)"
   ]
  },
  {
   "cell_type": "code",
   "execution_count": 13,
   "metadata": {},
   "outputs": [],
   "source": [
    "criterion = nn.CrossEntropyLoss()\n",
    "\n",
    "optimizer = optim.SGD(net.parameters(), lr= 0.001, momentum= 0.9)"
   ]
  },
  {
   "cell_type": "code",
   "execution_count": 14,
   "metadata": {},
   "outputs": [
    {
     "name": "stdout",
     "output_type": "stream",
     "text": [
      "start epoch number : 1\n",
      "Epoch: 1, Mini-Batches Completed: 50, Loss: 2.274, Test Accuracy = 37.500%\n",
      "Epoch: 1, Mini-Batches Completed: 100, Loss: 4.437, Test Accuracy = 55.530%\n",
      "Epoch: 1, Mini-Batches Completed: 150, Loss: 6.305, Test Accuracy = 72.050%\n",
      "Epoch: 1, Mini-Batches Completed: 200, Loss: 7.495, Test Accuracy = 81.870%\n",
      "Epoch: 1, Mini-Batches Completed: 250, Loss: 8.165, Test Accuracy = 85.630%\n",
      "Epoch: 1, Mini-Batches Completed: 300, Loss: 8.667, Test Accuracy = 88.130%\n",
      "Epoch: 1, Mini-Batches Completed: 350, Loss: 9.100, Test Accuracy = 88.970%\n",
      "Epoch: 1, Mini-Batches Completed: 400, Loss: 9.506, Test Accuracy = 89.750%\n",
      "Epoch: 1, Mini-Batches Completed: 450, Loss: 9.867, Test Accuracy = 90.190%\n",
      "start epoch number : 2\n",
      "Epoch: 2, Mini-Batches Completed: 50, Loss: 0.353, Test Accuracy = 90.330%\n",
      "Epoch: 2, Mini-Batches Completed: 100, Loss: 0.667, Test Accuracy = 91.100%\n",
      "Epoch: 2, Mini-Batches Completed: 150, Loss: 0.986, Test Accuracy = 90.650%\n",
      "Epoch: 2, Mini-Batches Completed: 200, Loss: 1.302, Test Accuracy = 91.870%\n",
      "Epoch: 2, Mini-Batches Completed: 250, Loss: 1.587, Test Accuracy = 91.960%\n",
      "Epoch: 2, Mini-Batches Completed: 300, Loss: 1.886, Test Accuracy = 92.530%\n",
      "Epoch: 2, Mini-Batches Completed: 350, Loss: 2.166, Test Accuracy = 91.910%\n",
      "Epoch: 2, Mini-Batches Completed: 400, Loss: 2.451, Test Accuracy = 92.710%\n",
      "Epoch: 2, Mini-Batches Completed: 450, Loss: 2.709, Test Accuracy = 92.690%\n",
      "start epoch number : 3\n",
      "Epoch: 3, Mini-Batches Completed: 50, Loss: 0.252, Test Accuracy = 93.520%\n",
      "Epoch: 3, Mini-Batches Completed: 100, Loss: 0.490, Test Accuracy = 93.270%\n",
      "Epoch: 3, Mini-Batches Completed: 150, Loss: 0.722, Test Accuracy = 93.700%\n",
      "Epoch: 3, Mini-Batches Completed: 200, Loss: 0.954, Test Accuracy = 93.520%\n",
      "Epoch: 3, Mini-Batches Completed: 250, Loss: 1.177, Test Accuracy = 94.140%\n",
      "Epoch: 3, Mini-Batches Completed: 300, Loss: 1.384, Test Accuracy = 94.130%\n",
      "Epoch: 3, Mini-Batches Completed: 350, Loss: 1.602, Test Accuracy = 94.370%\n",
      "Epoch: 3, Mini-Batches Completed: 400, Loss: 1.810, Test Accuracy = 94.480%\n",
      "Epoch: 3, Mini-Batches Completed: 450, Loss: 2.001, Test Accuracy = 94.650%\n",
      "start epoch number : 4\n",
      "Epoch: 4, Mini-Batches Completed: 50, Loss: 0.208, Test Accuracy = 94.910%\n",
      "Epoch: 4, Mini-Batches Completed: 100, Loss: 0.407, Test Accuracy = 94.930%\n",
      "Epoch: 4, Mini-Batches Completed: 150, Loss: 0.589, Test Accuracy = 95.390%\n",
      "Epoch: 4, Mini-Batches Completed: 200, Loss: 0.760, Test Accuracy = 95.230%\n",
      "Epoch: 4, Mini-Batches Completed: 250, Loss: 0.916, Test Accuracy = 95.490%\n",
      "Epoch: 4, Mini-Batches Completed: 300, Loss: 1.075, Test Accuracy = 95.320%\n",
      "Epoch: 4, Mini-Batches Completed: 350, Loss: 1.233, Test Accuracy = 95.780%\n",
      "Epoch: 4, Mini-Batches Completed: 400, Loss: 1.377, Test Accuracy = 95.760%\n",
      "Epoch: 4, Mini-Batches Completed: 450, Loss: 1.534, Test Accuracy = 95.790%\n",
      "start epoch number : 5\n",
      "Epoch: 5, Mini-Batches Completed: 50, Loss: 0.146, Test Accuracy = 96.070%\n",
      "Epoch: 5, Mini-Batches Completed: 100, Loss: 0.292, Test Accuracy = 96.190%\n",
      "Epoch: 5, Mini-Batches Completed: 150, Loss: 0.430, Test Accuracy = 96.190%\n",
      "Epoch: 5, Mini-Batches Completed: 200, Loss: 0.553, Test Accuracy = 96.350%\n",
      "Epoch: 5, Mini-Batches Completed: 250, Loss: 0.675, Test Accuracy = 96.370%\n",
      "Epoch: 5, Mini-Batches Completed: 300, Loss: 0.807, Test Accuracy = 96.210%\n",
      "Epoch: 5, Mini-Batches Completed: 350, Loss: 0.931, Test Accuracy = 96.600%\n",
      "Epoch: 5, Mini-Batches Completed: 400, Loss: 1.071, Test Accuracy = 96.750%\n",
      "Epoch: 5, Mini-Batches Completed: 450, Loss: 1.195, Test Accuracy = 96.920%\n",
      "start epoch number : 6\n",
      "Epoch: 6, Mini-Batches Completed: 50, Loss: 0.117, Test Accuracy = 96.830%\n",
      "Epoch: 6, Mini-Batches Completed: 100, Loss: 0.232, Test Accuracy = 96.860%\n",
      "Epoch: 6, Mini-Batches Completed: 150, Loss: 0.346, Test Accuracy = 96.870%\n",
      "Epoch: 6, Mini-Batches Completed: 200, Loss: 0.454, Test Accuracy = 96.890%\n",
      "Epoch: 6, Mini-Batches Completed: 250, Loss: 0.563, Test Accuracy = 97.040%\n",
      "Epoch: 6, Mini-Batches Completed: 300, Loss: 0.671, Test Accuracy = 97.050%\n",
      "Epoch: 6, Mini-Batches Completed: 350, Loss: 0.781, Test Accuracy = 97.180%\n",
      "Epoch: 6, Mini-Batches Completed: 400, Loss: 0.885, Test Accuracy = 97.120%\n",
      "Epoch: 6, Mini-Batches Completed: 450, Loss: 0.985, Test Accuracy = 97.400%\n",
      "start epoch number : 7\n",
      "Epoch: 7, Mini-Batches Completed: 50, Loss: 0.098, Test Accuracy = 97.380%\n",
      "Epoch: 7, Mini-Batches Completed: 100, Loss: 0.190, Test Accuracy = 97.220%\n",
      "Epoch: 7, Mini-Batches Completed: 150, Loss: 0.283, Test Accuracy = 97.250%\n",
      "Epoch: 7, Mini-Batches Completed: 200, Loss: 0.365, Test Accuracy = 97.360%\n",
      "Epoch: 7, Mini-Batches Completed: 250, Loss: 0.457, Test Accuracy = 97.540%\n",
      "Epoch: 7, Mini-Batches Completed: 300, Loss: 0.542, Test Accuracy = 97.450%\n",
      "Epoch: 7, Mini-Batches Completed: 350, Loss: 0.640, Test Accuracy = 97.620%\n",
      "Epoch: 7, Mini-Batches Completed: 400, Loss: 0.733, Test Accuracy = 97.570%\n",
      "Epoch: 7, Mini-Batches Completed: 450, Loss: 0.825, Test Accuracy = 97.660%\n",
      "start epoch number : 8\n",
      "Epoch: 8, Mini-Batches Completed: 50, Loss: 0.075, Test Accuracy = 97.780%\n",
      "Epoch: 8, Mini-Batches Completed: 100, Loss: 0.154, Test Accuracy = 97.610%\n",
      "Epoch: 8, Mini-Batches Completed: 150, Loss: 0.238, Test Accuracy = 97.740%\n",
      "Epoch: 8, Mini-Batches Completed: 200, Loss: 0.316, Test Accuracy = 97.700%\n",
      "Epoch: 8, Mini-Batches Completed: 250, Loss: 0.406, Test Accuracy = 97.630%\n",
      "Epoch: 8, Mini-Batches Completed: 300, Loss: 0.481, Test Accuracy = 97.770%\n",
      "Epoch: 8, Mini-Batches Completed: 350, Loss: 0.560, Test Accuracy = 97.800%\n",
      "Epoch: 8, Mini-Batches Completed: 400, Loss: 0.641, Test Accuracy = 97.920%\n",
      "Epoch: 8, Mini-Batches Completed: 450, Loss: 0.721, Test Accuracy = 97.950%\n",
      "start epoch number : 9\n",
      "Epoch: 9, Mini-Batches Completed: 50, Loss: 0.075, Test Accuracy = 97.910%\n",
      "Epoch: 9, Mini-Batches Completed: 100, Loss: 0.143, Test Accuracy = 97.830%\n",
      "Epoch: 9, Mini-Batches Completed: 150, Loss: 0.212, Test Accuracy = 97.900%\n",
      "Epoch: 9, Mini-Batches Completed: 200, Loss: 0.288, Test Accuracy = 97.850%\n",
      "Epoch: 9, Mini-Batches Completed: 250, Loss: 0.361, Test Accuracy = 98.000%\n",
      "Epoch: 9, Mini-Batches Completed: 300, Loss: 0.432, Test Accuracy = 97.950%\n",
      "Epoch: 9, Mini-Batches Completed: 350, Loss: 0.502, Test Accuracy = 98.070%\n",
      "Epoch: 9, Mini-Batches Completed: 400, Loss: 0.567, Test Accuracy = 97.980%\n",
      "Epoch: 9, Mini-Batches Completed: 450, Loss: 0.637, Test Accuracy = 98.050%\n",
      "start epoch number : 10\n",
      "Epoch: 10, Mini-Batches Completed: 50, Loss: 0.062, Test Accuracy = 98.220%\n",
      "Epoch: 10, Mini-Batches Completed: 100, Loss: 0.129, Test Accuracy = 98.060%\n",
      "Epoch: 10, Mini-Batches Completed: 150, Loss: 0.196, Test Accuracy = 98.090%\n",
      "Epoch: 10, Mini-Batches Completed: 200, Loss: 0.259, Test Accuracy = 98.140%\n",
      "Epoch: 10, Mini-Batches Completed: 250, Loss: 0.327, Test Accuracy = 98.160%\n",
      "Epoch: 10, Mini-Batches Completed: 300, Loss: 0.386, Test Accuracy = 98.050%\n",
      "Epoch: 10, Mini-Batches Completed: 350, Loss: 0.446, Test Accuracy = 98.160%\n",
      "Epoch: 10, Mini-Batches Completed: 400, Loss: 0.518, Test Accuracy = 98.210%\n",
      "Epoch: 10, Mini-Batches Completed: 450, Loss: 0.580, Test Accuracy = 98.090%\n",
      "finish Training\n"
     ]
    }
   ],
   "source": [
    "epochs = 10\n",
    "\n",
    "epoch_log = []\n",
    "loss_log = []\n",
    "accuracy_log = []\n",
    "\n",
    "\n",
    "for epoch in range(epochs):\n",
    "\n",
    "\n",
    "    print(f'start epoch number : {epoch +1}')\n",
    "\n",
    "    running_loss = 0.0\n",
    "\n",
    "\n",
    "    for i , data in enumerate(trainloader, 0):\n",
    "\n",
    "        inputs, labels = data\n",
    "        \n",
    "\n",
    "        inputs = inputs.to(device)\n",
    "        labels = labels.to(device)\n",
    "\n",
    "        optimizer.zero_grad()\n",
    "\n",
    "        outputs = net(inputs)\n",
    "\n",
    "        loss = criterion(outputs, labels)\n",
    "\n",
    "        loss.backward()\n",
    "        optimizer.step()\n",
    "\n",
    "        running_loss += loss.item()\n",
    "        if i % 50 == 49:\n",
    "            correct = 0\n",
    "            total = 0\n",
    "\n",
    "\n",
    "            with torch.no_grad():\n",
    "                for data in testloader:\n",
    "                    images, labels = data\n",
    "\n",
    "                    images = images.to(device)\n",
    "                    labels =labels.to(device)    \n",
    "\n",
    "                    outputs = net(images)\n",
    "\n",
    "                    _, prediction = torch.max(outputs.data, dim= 1)\n",
    "\n",
    "                    total += labels.size(0)\n",
    "\n",
    "                    correct += (prediction ==labels).sum().item()\n",
    "\n",
    "                accuracy = (correct/total) * 100\n",
    "                epoch_num = epoch + 1\n",
    "                actual_loss = running_loss/50\n",
    "                print(f'Epoch: {epoch_num}, Mini-Batches Completed: {(i+1)}, Loss: {actual_loss:.3f}, Test Accuracy = {accuracy:.3f}%')\n",
    "\n",
    "    epoch_log.append(epoch_num)\n",
    "    loss_log.append(actual_loss)\n",
    "    accuracy_log.append(accuracy)\n",
    "\n",
    "print('finish Training')    "
   ]
  },
  {
   "cell_type": "markdown",
   "metadata": {},
   "source": [
    "### **Let's reload the model we just saved**"
   ]
  },
  {
   "cell_type": "code",
   "execution_count": 15,
   "metadata": {},
   "outputs": [],
   "source": [
    "PATH = './mnist_cnn_net.pth'\n",
    "torch.save(net.state_dict(), PATH)"
   ]
  },
  {
   "cell_type": "markdown",
   "metadata": {},
   "source": [
    "### **Let's look at some images from your Test Data and view their Ground Truth labels**"
   ]
  },
  {
   "cell_type": "code",
   "execution_count": null,
   "metadata": {},
   "outputs": [],
   "source": [
    "\n",
    "dataiter = iter(testloader)\n",
    "images, labels = dataiter.next()\n",
    "\n",
    "imshow(torchvision.utils.make_grid(images))\n",
    "print('GroundTruth: ',''.join('%1s' % labels[j].numpy() for j in range(128)))"
   ]
  },
  {
   "cell_type": "markdown",
   "metadata": {},
   "source": [
    "### **Let's reload the model we just saved**"
   ]
  },
  {
   "cell_type": "code",
   "execution_count": null,
   "metadata": {},
   "outputs": [],
   "source": [
    "net = Net()\n",
    "net.to(device)\n",
    "\n",
    "net.load_state_dict(torch.load(PATH))"
   ]
  },
  {
   "cell_type": "markdown",
   "metadata": {},
   "source": [
    "#### **Getting Predictions**\n"
   ]
  },
  {
   "cell_type": "code",
   "execution_count": null,
   "metadata": {},
   "outputs": [],
   "source": [
    "\n",
    "test_iter = iter(testloader)\n",
    "\n",
    "\n",
    "images, labels = test_iter.next()\n",
    "\n",
    "\n",
    "images = images.to(device)\n",
    "labels = labels.to(device)\n",
    "\n",
    "outputs = net(images)\n",
    "\n",
    "\n",
    "_, predicted = torch.max(outputs, 1)\n",
    "\n",
    "\n",
    "print('Predicted: ', ''.join('%1s' % predicted[j].cpu().numpy() for j in range(128)))"
   ]
  },
  {
   "cell_type": "markdown",
   "metadata": {},
   "source": [
    "#### **Showing our Test Accuracy again**"
   ]
  },
  {
   "cell_type": "code",
   "execution_count": null,
   "metadata": {},
   "outputs": [],
   "source": [
    "correct = 0 \n",
    "total = 0\n",
    "\n",
    "with torch.no_grad():\n",
    "    for data in testloader:\n",
    "        images, labels = data\n",
    "        images = images.to(device)\n",
    "        labels = labels.to(device)\n",
    "        outputs = net(images)\n",
    "        _, predicted = torch.max(outputs.data, 1)\n",
    "        total += labels.size(0)\n",
    "        correct += (predicted == labels).sum().item()\n",
    "\n",
    "accuracy = 100 * correct / total\n",
    "print(f'Accuracy of the network on the 10000 test images: {accuracy:.3}%')"
   ]
  },
  {
   "cell_type": "markdown",
   "metadata": {},
   "source": [
    "## **Plotting our Training Logs**\n"
   ]
  },
  {
   "cell_type": "code",
   "execution_count": null,
   "metadata": {},
   "outputs": [],
   "source": [
    "fig, ax1 = plt.subplots()\n",
    "\n",
    "plt.title(\"Accuracy & Loss vs Epoch\")\n",
    "plt.xticks(rotation=45)\n",
    "\n",
    "ax2 = ax1.twinx()\n",
    "\n",
    "ax1.plot(epoch_log, loss_log, 'g-')\n",
    "ax2.plot(epoch_log, accuracy_log, 'b-')\n",
    "\n",
    "ax1.set_xlabel('Epochs')\n",
    "ax1.set_ylabel('Loss', color='g')\n",
    "ax2.set_ylabel('Test Accuracy', color='b')\n",
    "\n",
    "plt.show()"
   ]
  }
 ],
 "metadata": {
  "kernelspec": {
   "display_name": "pytorch",
   "language": "python",
   "name": "python3"
  },
  "language_info": {
   "codemirror_mode": {
    "name": "ipython",
    "version": 3
   },
   "file_extension": ".py",
   "mimetype": "text/x-python",
   "name": "python",
   "nbconvert_exporter": "python",
   "pygments_lexer": "ipython3",
   "version": "3.10.4"
  }
 },
 "nbformat": 4,
 "nbformat_minor": 2
}
